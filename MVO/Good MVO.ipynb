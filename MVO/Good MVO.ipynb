{
 "cells": [
  {
   "cell_type": "code",
   "execution_count": 1,
   "id": "b0a74b39-108b-4858-a7cc-3f9fed2d4ff8",
   "metadata": {},
   "outputs": [
    {
     "name": "stderr",
     "output_type": "stream",
     "text": [
      "C:\\Users\\samga\\anaconda3\\lib\\site-packages\\scipy\\__init__.py:146: UserWarning: A NumPy version >=1.16.5 and <1.23.0 is required for this version of SciPy (detected version 1.23.1\n",
      "  warnings.warn(f\"A NumPy version >={np_minversion} and <{np_maxversion}\"\n"
     ]
    }
   ],
   "source": [
    "import numpy as np\n",
    "from scipy.stats import chisquare\n",
    "from scipy.stats import gmean\n",
    "import cvxopt as opt\n",
    "from cvxopt import matrix, spmatrix, sparse\n",
    "from cvxopt.solvers import qp, options\n",
    "from cvxopt import blas\n",
    "import pandas as pd"
   ]
  },
  {
   "cell_type": "code",
   "execution_count": 2,
   "id": "ba29346d-d6b1-46e3-aecb-6a764d629cb4",
   "metadata": {},
   "outputs": [],
   "source": [
    "def geo_mean(returns):\n",
    "    geo = []\n",
    "    n = len(returns.transpose())\n",
    "    for i in range(0,n):\n",
    "        geo = geo + [np.exp(np.log(rets[:,i]+1).mean())-1]\n",
    "    return geo\n",
    "\n",
    "def quad_opt_func(Q,n):\n",
    "    \n",
    "    return 2*Q\n",
    "\n",
    "\n",
    "def lin_opt_func(r,n):\n",
    "    if r == False:\n",
    "        return np.zeros([n,1])\n",
    "    else:\n",
    "        return r\n",
    "    \n",
    "def inequality_constraints(n):\n",
    "    \n",
    "    # Inequality Constraint\n",
    "    # Expected Return Over 0.0035\n",
    "    G1 = np.matrix([-1])*mu\n",
    "    h1 = np.matrix(-0.00035)\n",
    "\n",
    "    # Lower Bound on Each Element!\n",
    "    G2 = -1*np.identity(n)\n",
    "    h2 = np.zeros([n,1])\n",
    "\n",
    "    #Concat all Answers\n",
    "    G = G2#np.concatenate((G1,G2),axis=0)\n",
    "    h = h2#np.concatenate((h1,h2),axis=0)\n",
    "    \n",
    "    return G,h\n",
    "\n",
    "def equality_constraints(n):\n",
    "    \n",
    "    # Equality Constraint\n",
    "    # Weight sum is 1\n",
    "    A1 = np.ones([1,n])\n",
    "    b1 = np.ones([1,1])\n",
    "    \n",
    "    \n",
    "    #Concat All Equality\n",
    "    A = A1#np.concatenate((A1),axis=0)\n",
    "    b = b1#np.concatenate((b1),axis=0)\n",
    "    \n",
    "    return A,b\n",
    "\n",
    "def MVO(mu,Q,x0):\n",
    "    \n",
    "    #NOTE: X0 is not used yet but it will be for transaction costs\n",
    "    \n",
    "    # Number of Assets\n",
    "    n = len(Q)\n",
    "    \n",
    "    # ----- Constraints -----------\n",
    "    \n",
    "    # Equality Constraint\n",
    "    \n",
    "    A,b = equality_constraints(n)\n",
    "    \n",
    "    # Inequality Constraint\n",
    "    \n",
    "    G,h = inequality_constraints(n)\n",
    "    \n",
    "    \n",
    "    # --- Quadtratic Optimization Function --------\n",
    "    #quad = 2*Q\n",
    "    quad = quad_opt_func(Q,n)\n",
    "    # ------ Linear Optimization Function ---------\n",
    "    #r = np.zeros([n,1])\n",
    "    r = lin_opt_func(mu,n)\n",
    "    \n",
    "    \n",
    "    # ------------ Optimize! --------\n",
    "    sol = qp(matrix(quad), -1*matrix(r), matrix(G), matrix(h), matrix(A), matrix(b))['x']\n",
    "    #sol = qp(matrix(quad), matrix(r), None, None, matrix(A), matrix(b))#['x']\n",
    "    \n",
    "    \n",
    "    return sol\n",
    "    \n",
    "    "
   ]
  }
 ],
 "metadata": {
  "kernelspec": {
   "display_name": "Python 3.9.13 64-bit",
   "language": "python",
   "name": "python3"
  },
  "language_info": {
   "codemirror_mode": {
    "name": "ipython",
    "version": 3
   },
   "file_extension": ".py",
   "mimetype": "text/x-python",
   "name": "python",
   "nbconvert_exporter": "python",
   "pygments_lexer": "ipython3",
   "version": "3.9.13"
  },
  "vscode": {
   "interpreter": {
    "hash": "e67b797d3f5f1397308fab3e9167820405bc7b27d328d02f434116943a48232e"
   }
  }
 },
 "nbformat": 4,
 "nbformat_minor": 5
}
