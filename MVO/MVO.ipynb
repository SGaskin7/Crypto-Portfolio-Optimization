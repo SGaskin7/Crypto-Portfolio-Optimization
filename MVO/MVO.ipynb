{
 "cells": [
  {
   "cell_type": "code",
   "execution_count": 4,
   "id": "8ce60e09",
   "metadata": {},
   "outputs": [
    {
     "name": "stderr",
     "output_type": "stream",
     "text": [
      "C:\\Users\\samga\\anaconda3\\lib\\site-packages\\scipy\\__init__.py:146: UserWarning: A NumPy version >=1.16.5 and <1.23.0 is required for this version of SciPy (detected version 1.23.1\n",
      "  warnings.warn(f\"A NumPy version >={np_minversion} and <{np_maxversion}\"\n"
     ]
    }
   ],
   "source": [
    "import numpy as np\n",
    "from scipy.stats import gmean\n",
    "import cvxopt as opt\n",
    "from cvxopt import matrix, spmatrix, sparse\n",
    "from cvxopt.solvers import qp, options\n",
    "from cvxopt import blas"
   ]
  },
  {
   "cell_type": "markdown",
   "id": "2f91cd24",
   "metadata": {},
   "source": [
    "# Creating an MVO"
   ]
  },
  {
   "cell_type": "code",
   "execution_count": 5,
   "id": "70b7221b",
   "metadata": {},
   "outputs": [],
   "source": [
    "def geo_mean(returns):\n",
    "    geo = []\n",
    "    n = len(returns.transpose())\n",
    "    for i in range(0,n):\n",
    "        geo = geo + [np.exp(np.log(rets[:,i]+1).mean())-1]\n",
    "    return geo"
   ]
  },
  {
   "cell_type": "code",
   "execution_count": 6,
   "id": "5b31ae33",
   "metadata": {},
   "outputs": [],
   "source": [
    "def quad_opt_func(Q,n):\n",
    "    \n",
    "    return 2*Q"
   ]
  },
  {
   "cell_type": "code",
   "execution_count": 7,
   "id": "14316b5a",
   "metadata": {},
   "outputs": [],
   "source": [
    "def lin_opt_func(r,n):\n",
    "    if r == False:\n",
    "        return np.zeros([n,1])\n",
    "    else:\n",
    "        return r"
   ]
  },
  {
   "cell_type": "code",
   "execution_count": 15,
   "id": "b384df41-395e-46de-8d9b-c75cd37d2f5e",
   "metadata": {},
   "outputs": [],
   "source": [
    "def inequality_constraints(n):\n",
    "    \n",
    "    # Inequality Constraint\n",
    "    # Expected Return Over 0.0035\n",
    "    G1 = np.matrix([-1])*mu\n",
    "    h1 = np.matrix(-0.035)\n",
    "\n",
    "    # Lower Bound on Each Element!\n",
    "    G2 = -1*np.identity(n)\n",
    "    h2 = np.zeros([n,1])\n",
    "\n",
    "    #Concat all Answers\n",
    "    G = np.concatenate((G1,G2),axis=0)\n",
    "    h = np.concatenate((h1,h2),axis=0)\n",
    "    \n",
    "    return G,h"
   ]
  },
  {
   "cell_type": "code",
   "execution_count": 16,
   "id": "71a5567a-0be8-4441-96b7-546b8aa965f6",
   "metadata": {},
   "outputs": [],
   "source": [
    "def equality_constraints(n):\n",
    "    \n",
    "    # Equality Constraint\n",
    "    # Weight sum is 1\n",
    "    A1 = np.ones([1,n])\n",
    "    b1 = np.ones([1,1])\n",
    "    \n",
    "    \n",
    "    #Concat All Equality\n",
    "    A = A1#np.concatenate((A1),axis=0)\n",
    "    b = b1#np.concatenate((b1),axis=0)\n",
    "    \n",
    "    return A,b\n",
    "    "
   ]
  },
  {
   "cell_type": "code",
   "execution_count": 17,
   "id": "8cc52f45",
   "metadata": {},
   "outputs": [],
   "source": [
    "def MVO(mu,Q,x0):\n",
    "    \n",
    "    #NOTE: X0 is not used yet but it will be for transaction costs\n",
    "    \n",
    "    # Number of Assets\n",
    "    n = len(Q)\n",
    "    \n",
    "    # ----- Constraints -----------\n",
    "    \n",
    "    # Equality Constraint\n",
    "    \n",
    "    A,b = equality_constraints(n)\n",
    "    \n",
    "    # Inequality Constraint\n",
    "    \n",
    "    G,h = inequality_constraints(n)\n",
    "    \n",
    "    \n",
    "    # --- Quadtratic Optimization Function --------\n",
    "    #quad = 2*Q\n",
    "    quad = quad_opt_func(Q,n)\n",
    "    # ------ Linear Optimization Function ---------\n",
    "    #r = np.zeros([n,1])\n",
    "    r = lin_opt_func(False,n)\n",
    "    \n",
    "    \n",
    "    # ------------ Optimize! --------\n",
    "    sol = qp(matrix(quad), matrix(r), matrix(G), matrix(h), matrix(A), matrix(b))['x']\n",
    "    \n",
    "    \n",
    "    return sol\n",
    "    \n",
    "    "
   ]
  },
  {
   "cell_type": "markdown",
   "id": "3ceda62b",
   "metadata": {
    "tags": []
   },
   "source": [
    "# Inputs"
   ]
  },
  {
   "cell_type": "markdown",
   "id": "40feccd5",
   "metadata": {
    "tags": []
   },
   "source": [
    "# Set Up\n",
    "\n",
    "https://towardsdatascience.com/quadratic-optimization-with-constraints-in-python-using-cvxopt-fc924054a9fc\n",
    "\n",
    "##### Initial Setup\n",
    "- n is number of stocks\n",
    "\n",
    "- Q is quadtratic part of min function nxn matrix\n",
    "\n",
    "- r is linear min function nx1 matrix\n",
    "\n",
    "##### EQUALITY CONSTRAINTS\n",
    "\n",
    "##### A*x = b\n",
    "- A is m x n matrix with m constraints\n",
    "\n",
    "- b is m x 1 matrix with m constraints\n",
    "\n",
    "##### INEQUALITY CONSTRAINTS\n",
    "\n",
    "##### G*x = h\n",
    "\n",
    "- G is m x n matrix with m constraints\n",
    "\n",
    "- b is m x 1 matrix with m constraints\n"
   ]
  },
  {
   "cell_type": "markdown",
   "id": "39f1cc84",
   "metadata": {},
   "source": [
    "## Set Up Universe of Returns and Volatility"
   ]
  },
  {
   "cell_type": "code",
   "execution_count": 22,
   "id": "61aaab01",
   "metadata": {},
   "outputs": [],
   "source": [
    "prices = np.matrix([[120, 54.5, 73.8],[129.6,45.78,70.85],[152.93,48.07,72.98],[144.52,50.57,76.05],[14005.52,53.57,78.05]])\n",
    "rets = prices[1:,:]/prices[0:-1,:] -1\n",
    "mu = geo_mean(rets)\n",
    "Q = np.cov(rets.transpose())\n",
    "x0 = False"
   ]
  },
  {
   "cell_type": "code",
   "execution_count": 23,
   "id": "9c4e7d4f-f12e-4abd-832b-d904de3096b9",
   "metadata": {},
   "outputs": [
    {
     "name": "stdout",
     "output_type": "stream",
     "text": [
      "     pcost       dcost       gap    pres   dres\n",
      " 0:  4.5860e-03 -9.5258e-01  6e+00  2e+00  5e+00\n",
      " 1:  6.7297e-03 -4.2536e-01  6e-01  8e-02  2e-01\n",
      " 2:  1.4194e-01  1.2865e-01  2e-01  2e-02  5e-02\n",
      " 3:  1.9262e-01  1.8797e-01  2e-02  1e-03  3e-03\n",
      " 4:  2.0230e-01  2.0225e-01  2e-04  1e-05  3e-05\n",
      " 5:  2.0240e-01  2.0240e-01  2e-06  1e-07  3e-07\n",
      " 6:  2.0240e-01  2.0240e-01  2e-08  1e-09  3e-09\n",
      "Optimal solution found.\n"
     ]
    },
    {
     "data": {
      "text/plain": [
       "<3x1 matrix, tc='d'>"
      ]
     },
     "execution_count": 23,
     "metadata": {},
     "output_type": "execute_result"
    }
   ],
   "source": [
    "MVO(mu,Q,x0)"
   ]
  },
  {
   "cell_type": "markdown",
   "id": "3ad69b5b-52ff-482c-8c28-6e8a17867090",
   "metadata": {},
   "source": [
    "# Setting UP THe FUnction Above"
   ]
  },
  {
   "cell_type": "markdown",
   "id": "87c87504",
   "metadata": {},
   "source": [
    "## Set Up Equality Constraints (Ax=b)"
   ]
  },
  {
   "cell_type": "code",
   "execution_count": 13,
   "id": "ff1b4c82",
   "metadata": {},
   "outputs": [],
   "source": [
    "# Weight sum is 1\n",
    "A1 = np.ones([1,3])\n",
    "b1 = np.ones([1,1])\n"
   ]
  },
  {
   "cell_type": "markdown",
   "id": "7857738f",
   "metadata": {},
   "source": [
    "## Setup Inequality Constraints (G*x<h)"
   ]
  },
  {
   "cell_type": "code",
   "execution_count": 14,
   "id": "7251fce4",
   "metadata": {},
   "outputs": [
    {
     "ename": "NameError",
     "evalue": "name 'n' is not defined",
     "output_type": "error",
     "traceback": [
      "\u001b[1;31m---------------------------------------------------------------------------\u001b[0m",
      "\u001b[1;31mNameError\u001b[0m                                 Traceback (most recent call last)",
      "Input \u001b[1;32mIn [14]\u001b[0m, in \u001b[0;36m<cell line: 6>\u001b[1;34m()\u001b[0m\n\u001b[0;32m      3\u001b[0m h1 \u001b[38;5;241m=\u001b[39m np\u001b[38;5;241m.\u001b[39mmatrix(\u001b[38;5;241m-\u001b[39m\u001b[38;5;241m0.035\u001b[39m)\n\u001b[0;32m      5\u001b[0m \u001b[38;5;66;03m# Lower Bound on Each Element!\u001b[39;00m\n\u001b[1;32m----> 6\u001b[0m G2 \u001b[38;5;241m=\u001b[39m \u001b[38;5;241m-\u001b[39m\u001b[38;5;241m1\u001b[39m\u001b[38;5;241m*\u001b[39mnp\u001b[38;5;241m.\u001b[39midentity(\u001b[43mn\u001b[49m)\n\u001b[0;32m      7\u001b[0m h2 \u001b[38;5;241m=\u001b[39m np\u001b[38;5;241m.\u001b[39mzeros([n,\u001b[38;5;241m1\u001b[39m])\n\u001b[0;32m      9\u001b[0m \u001b[38;5;66;03m#Concat all Answers\u001b[39;00m\n",
      "\u001b[1;31mNameError\u001b[0m: name 'n' is not defined"
     ]
    }
   ],
   "source": [
    "# Expected Return Over 0.0035\n",
    "G1 = np.matrix([-1])*mu\n",
    "h1 = np.matrix(-0.035)\n",
    "\n",
    "# Lower Bound on Each Element!\n",
    "G2 = -1*np.identity(n)\n",
    "h2 = np.zeros([n,1])\n",
    "\n",
    "#Concat all Answers\n",
    "G = np.concatenate((G1,G2),axis=0)\n",
    "h = np.concatenate((h1,h2),axis=0)"
   ]
  },
  {
   "cell_type": "markdown",
   "id": "409ab3f2",
   "metadata": {},
   "source": [
    "## Set Up Quadratic Optimization"
   ]
  },
  {
   "cell_type": "code",
   "execution_count": 533,
   "id": "2ea597f3",
   "metadata": {},
   "outputs": [],
   "source": [
    "quad = 2*Q"
   ]
  },
  {
   "cell_type": "markdown",
   "id": "474273e8",
   "metadata": {},
   "source": [
    "## Set Up Linear Optimization"
   ]
  },
  {
   "cell_type": "code",
   "execution_count": 534,
   "id": "f84bec91",
   "metadata": {},
   "outputs": [],
   "source": [
    "r = np.zeros([3,1])"
   ]
  },
  {
   "cell_type": "markdown",
   "id": "c4b7e71d",
   "metadata": {},
   "source": [
    "## Solve!"
   ]
  },
  {
   "cell_type": "code",
   "execution_count": 556,
   "id": "a1100c9f",
   "metadata": {},
   "outputs": [
    {
     "name": "stdout",
     "output_type": "stream",
     "text": [
      "     pcost       dcost       gap    pres   dres\n",
      " 0:  4.0094e-03 -9.7501e-01  5e+00  2e+00  2e+00\n",
      " 1:  3.9349e-03 -5.5588e-01  6e-01  5e-02  6e-02\n",
      " 2:  4.6695e-03 -1.1841e-01  1e-01  1e-02  1e-02\n",
      " 3:  5.3961e-03  6.3227e-04  5e-03  1e-16  6e-17\n",
      " 4:  3.3422e-03  2.7664e-03  6e-04  2e-16  1e-17\n",
      " 5:  2.9803e-03  2.9734e-03  7e-06  2e-16  9e-18\n",
      " 6:  2.9758e-03  2.9757e-03  7e-08  1e-16  2e-17\n",
      "Optimal solution found.\n"
     ]
    }
   ],
   "source": [
    "sol = qp(matrix(quad), matrix(r), matrix(G), matrix(h), matrix(A), matrix(b))['x']"
   ]
  },
  {
   "cell_type": "code",
   "execution_count": 557,
   "id": "0b724a8f",
   "metadata": {},
   "outputs": [
    {
     "name": "stdout",
     "output_type": "stream",
     "text": [
      "[ 4.63e-01]\n",
      "[ 3.00e-06]\n",
      "[ 5.37e-01]\n",
      "\n"
     ]
    }
   ],
   "source": [
    "print(sol)"
   ]
  },
  {
   "cell_type": "code",
   "execution_count": 450,
   "id": "54f21da3",
   "metadata": {},
   "outputs": [
    {
     "name": "stdout",
     "output_type": "stream",
     "text": [
      "[-3.50e-02]\n",
      "[ 0.00e+00]\n",
      "\n"
     ]
    }
   ],
   "source": [
    "print(hh)"
   ]
  }
 ],
 "metadata": {
  "kernelspec": {
   "display_name": "Python 3 (ipykernel)",
   "language": "python",
   "name": "python3"
  },
  "language_info": {
   "codemirror_mode": {
    "name": "ipython",
    "version": 3
   },
   "file_extension": ".py",
   "mimetype": "text/x-python",
   "name": "python",
   "nbconvert_exporter": "python",
   "pygments_lexer": "ipython3",
   "version": "3.9.12"
  }
 },
 "nbformat": 4,
 "nbformat_minor": 5
}
