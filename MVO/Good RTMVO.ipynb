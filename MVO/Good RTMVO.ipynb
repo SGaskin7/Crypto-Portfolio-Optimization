{
 "cells": [
  {
   "cell_type": "code",
   "execution_count": 1,
   "id": "2ed6bd26-7b05-412a-ae49-78de7b054624",
   "metadata": {},
   "outputs": [
    {
     "name": "stderr",
     "output_type": "stream",
     "text": [
      "C:\\Users\\samga\\anaconda3\\lib\\site-packages\\scipy\\__init__.py:146: UserWarning: A NumPy version >=1.16.5 and <1.23.0 is required for this version of SciPy (detected version 1.23.1\n",
      "  warnings.warn(f\"A NumPy version >={np_minversion} and <{np_maxversion}\"\n"
     ]
    }
   ],
   "source": [
    "import numpy as np\n",
    "from scipy.stats import chisquare\n",
    "from scipy.stats import gmean\n",
    "import cvxopt as opt\n",
    "from cvxopt import matrix, spmatrix, sparse\n",
    "from cvxopt.solvers import qp, options\n",
    "from cvxopt import blas\n",
    "import pandas as pd"
   ]
  },
  {
   "cell_type": "code",
   "execution_count": 4,
   "id": "475561e8-0e58-4ca3-a41f-13ff438643c9",
   "metadata": {},
   "outputs": [],
   "source": [
    "def geo_mean(returns):\n",
    "    geo = []\n",
    "    n = len(returns.transpose())\n",
    "    for i in range(0,n):\n",
    "        geo = geo + [np.exp(np.log(rets[:,i]+1).mean())-1]\n",
    "    return geo"
   ]
  },
  {
   "cell_type": "code",
   "execution_count": 218,
   "id": "2eab1bdd-2eee-4aa9-a7ac-ae00e11887c2",
   "metadata": {},
   "outputs": [],
   "source": [
    "def RTMVO(mu,Q,x0):\n",
    "    \n",
    "    # Penalty on Turnover (very sensitive)\n",
    "    c = 0\n",
    "    # Penalty on variance\n",
    "    lambd = 40\n",
    "    # Pentalty on returns\n",
    "    rpen = 1\n",
    "    # Max weight of an asset\n",
    "    max_weight = 0.2\n",
    "    # between 0% and 200%\n",
    "    turnover = 2\n",
    "    #size of uncertainty set\n",
    "    ep = 2\n",
    "    \n",
    "    T = np.shape(mu)[0]\n",
    "    Theta = np.diag(np.diag(Q))/T\n",
    "    sqrtTh = np.diag(matrix(np.sqrt(Theta)))\n",
    "    n = len(Q)\n",
    "    \n",
    "    # Make Q work for abs value\n",
    "    Q = matrix(np.block([[Q, np.zeros((n,n)), np.zeros((n,n))], [np.zeros((n,n)), np.zeros((n,n)), np.zeros((n,n))], [np.zeros((n,n)), np.zeros((n,n)), np.zeros((n,n))]]))\n",
    "\n",
    "    # A and B\n",
    "    b1 = np.ones([1,1])\n",
    "    b2 = x0\n",
    "\n",
    "\n",
    "    A = matrix(np.block([[np.ones(n), c * np.ones(n), -c * np.ones(n)], [np.eye(n), np.eye(n), -np.eye(n)]]))\n",
    "    b = np.concatenate((b1,b2))\n",
    "\n",
    "    # G and h\n",
    "    G = matrix(0.0, (6 * n + 1, 3 * n))\n",
    "    h = opt.matrix(0.0, (6 * n + 1, 1))\n",
    "    for k in range(3 * n):\n",
    "        # xi > 0 constraint\n",
    "        G[k, k] = -1\n",
    "    # xi > max_weight\n",
    "        G[k + 3 * n, k] = 1\n",
    "        h[k + 3 * n] = max_weight\n",
    "    for k in range(2 * n):\n",
    "        # sum dwi+ + dwi- < turnover\n",
    "        G[6 * n, k + n] = 1\n",
    "\n",
    "    h[6 * n] = turnover\n",
    "\n",
    "\n",
    "\n",
    "    quad = lambd*Q\n",
    "    r = matrix(np.block([rpen*np.array(mu) - ep*sqrtTh, -c * np.ones(2*n)]))\n",
    "    print(np.shape(r))\n",
    "    \n",
    "    return np.transpose(np.array(qp(matrix(quad), -1*matrix(r), matrix(G), matrix(h), matrix(A), matrix(b))['x'])[0:50])[0].tolist()\n",
    "\n",
    "    "
   ]
  },
  {
   "cell_type": "code",
   "execution_count": 219,
   "id": "196216df-0b53-473c-b2b3-fb51c505c746",
   "metadata": {},
   "outputs": [],
   "source": [
    "prices = pd.read_csv('prices.csv',header=None).to_numpy()\n",
    "rets = prices[1:,:]/prices[0:-1,:] -1\n",
    "\n",
    "mu = geo_mean(rets)\n",
    "Q = np.cov(rets.transpose())\n",
    "n = len(Q)\n",
    "x0 = matrix(np.ones(n)*1/n)\n"
   ]
  },
  {
   "cell_type": "code",
   "execution_count": 220,
   "id": "a1aff304-9f18-4cbb-8967-15e03d3266e8",
   "metadata": {},
   "outputs": [
    {
     "name": "stdout",
     "output_type": "stream",
     "text": [
      "(150, 1)\n",
      "     pcost       dcost       gap    pres   dres\n",
      " 0:  1.0450e-02 -3.0383e+01  4e+02  6e+00  1e+01\n",
      " 1:  1.0615e-02 -2.3525e+01  2e+01  1e-15  4e-15\n",
      " 2:  1.0603e-02 -3.0039e-01  3e-01  3e-16  2e-15\n",
      " 3:  9.9383e-03 -4.0599e-02  5e-02  1e-16  3e-16\n",
      " 4:  8.9689e-03 -3.0202e-02  4e-02  2e-16  2e-16\n",
      " 5:  7.8916e-03  1.4220e-03  6e-03  2e-16  3e-17\n",
      " 6:  7.3414e-03  5.7894e-03  2e-03  2e-16  2e-17\n",
      " 7:  7.2010e-03  6.8603e-03  3e-04  4e-16  1e-17\n",
      " 8:  7.1731e-03  7.1058e-03  7e-05  3e-16  1e-17\n",
      " 9:  7.1669e-03  7.1641e-03  3e-06  2e-16  1e-17\n",
      "10:  7.1666e-03  7.1666e-03  3e-08  5e-16  1e-17\n",
      "Optimal solution found.\n"
     ]
    }
   ],
   "source": [
    "aa = RTMVO(mu,Q,x0)"
   ]
  },
  {
   "cell_type": "code",
   "execution_count": 228,
   "id": "ece12130-2313-4c52-bb2f-003344a0d5af",
   "metadata": {},
   "outputs": [
    {
     "data": {
      "text/plain": [
       "'Bar-Graph---turnover.png'"
      ]
     },
     "execution_count": 228,
     "metadata": {},
     "output_type": "execute_result"
    },
    {
     "data": {
      "text/plain": [
       "<Figure size 640x480 with 0 Axes>"
      ]
     },
     "metadata": {},
     "output_type": "display_data"
    },
    {
     "data": {
      "image/png": "[encoded data removed]",
      "text/plain": [
       "<Figure size 300x600 with 1 Axes>"
      ]
     },
     "metadata": {},
     "output_type": "display_data"
    }
   ],
   "source": [
    "import sys\n",
    "sys.path.insert(1,r'C:\\Users\\samga\\OneDrive\\Desktop\\Charts')\n",
    "#sys.path.insert(1,r'C:\\Users\\Owner\\OneDrive\\Desktop\\Charts')\n",
    "\n",
    "import SGCharts\n",
    "ch = SGCharts.Chart('Bar Graph - turnover',figsize=[2,4])\n",
    "accum = 0\n",
    "for i in aa:\n",
    "    accum = i + accum\n",
    "    ch.ax.bar('robust',height = [i],bottom = [accum])\n",
    "\n",
    "#ch.ax.bar('robust',height)\n",
    "\n",
    "ch.ax.set_ylim([0,1])\n",
    "\n",
    "ch.render()"
   ]
  }
 ],
 "metadata": {
  "kernelspec": {
   "display_name": "Python 3 (ipykernel)",
   "language": "python",
   "name": "python3"
  },
  "language_info": {
   "codemirror_mode": {
    "name": "ipython",
    "version": 3
   },
   "file_extension": ".py",
   "mimetype": "text/x-python",
   "name": "python",
   "nbconvert_exporter": "python",
   "pygments_lexer": "ipython3",
   "version": "3.9.12"
  }
 },
 "nbformat": 4,
 "nbformat_minor": 5
}
